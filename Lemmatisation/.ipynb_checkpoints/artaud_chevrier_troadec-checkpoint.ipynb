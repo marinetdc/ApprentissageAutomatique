{
 "cells": [
  {
   "cell_type": "markdown",
   "metadata": {
    "id": "edUATLyRsLx4"
   },
   "source": [
    "# TP 3 - Chevrier & Troadec & Artaud\n",
    "\n",
    "\n"
   ]
  },
  {
   "cell_type": "markdown",
   "metadata": {
    "id": "lgr1DOOisLx7"
   },
   "source": [
    "## Import "
   ]
  },
  {
   "cell_type": "code",
   "execution_count": 1,
   "metadata": {
    "colab": {
     "base_uri": "https://localhost:8080/"
    },
    "id": "l8HKcSi4sLx7",
    "outputId": "eb5ab342-67c5-42f8-eb50-ef020c8f3d15"
   },
   "outputs": [
    {
     "name": "stderr",
     "output_type": "stream",
     "text": [
      "  % Total    % Received % Xferd  Average Speed   Time    Time     Time  Current\n",
      "                                 Dload  Upload   Total   Spent    Left  Speed\n",
      "\r",
      "  0     0    0     0    0     0      0      0 --:--:-- --:--:-- --:--:--     0\r",
      "100  1119  100  1119    0     0   1502      0 --:--:-- --:--:-- --:--:--  1500\r",
      "100  1119  100  1119    0     0   1500      0 --:--:-- --:--:-- --:--:--  1497\n"
     ]
    }
   ],
   "source": [
    "%%bash\n",
    "curl -O http://pageperso.lif.univ-mrs.fr/~alexis.nasr/Ens/MASCO_AA/EncodeDecode.py"
   ]
  },
  {
   "cell_type": "code",
   "execution_count": 2,
   "metadata": {
    "id": "Rtch91UWlW_x"
   },
   "outputs": [],
   "source": [
    "from EncodeDecode import EncodeDecode\n",
    "import numpy as np\n",
    "import tensorflow as tf\n",
    "from tensorflow import keras\n",
    "from tensorflow.keras import layers\n",
    "from tensorflow.keras.models import Sequential\n",
    "from sklearn.model_selection import train_test_split\n",
    "from tensorflow.keras.layers import GRU\n",
    "import matplotlib.pyplot as plt\n",
    "from sklearn.utils import shuffle"
   ]
  },
  {
   "cell_type": "code",
   "execution_count": 3,
   "metadata": {
    "colab": {
     "base_uri": "https://localhost:8080/"
    },
    "id": "qklu_oG4pA2T",
    "outputId": "785147b6-adbb-4c0d-f5f7-bb56c1611d89",
    "scrolled": true
   },
   "outputs": [
    {
     "name": "stdout",
     "output_type": "stream",
     "text": [
      "alphabet.txt\n",
      "lemmatisation_test_A.txt\n",
      "lemmatisation_test_N.txt\n",
      "lemmatisation_test_origin.txt\n",
      "lemmatisation_test.txt\n",
      "lemmatisation_test_V.txt\n",
      "lemmatisation_train_A.txt\n",
      "lemmatisation_train_N.txt\n",
      "lemmatisation_train_origin.txt\n",
      "lemmatisation_train.txt\n",
      "lemmatisation_train_V.txt\n"
     ]
    },
    {
     "name": "stderr",
     "output_type": "stream",
     "text": [
      "  % Total    % Received % Xferd  Average Speed   Time    Time     Time  Current\n",
      "                                 Dload  Upload   Total   Spent    Left  Speed\n",
      "\r",
      "  0     0    0     0    0     0      0      0 --:--:-- --:--:-- --:--:--     0\r",
      "  2 3044k    2 77928    0     0   159k      0  0:00:19 --:--:--  0:00:19  158k\r",
      "100 3044k  100 3044k    0     0  2885k      0  0:00:01  0:00:01 --:--:-- 2885k\n"
     ]
    }
   ],
   "source": [
    "%%bash\n",
    "curl -O http://pageperso.lif.univ-mrs.fr/~alexis.nasr/Ens/MASCO_AA/lemmatisation_data.tgz\n",
    "tar xvfz lemmatisation_data.tgz"
   ]
  },
  {
   "cell_type": "markdown",
   "metadata": {
    "id": "chb4LC7ysLx9"
   },
   "source": [
    "## Visualisation des données "
   ]
  },
  {
   "cell_type": "code",
   "execution_count": 4,
   "metadata": {
    "colab": {
     "base_uri": "https://localhost:8080/"
    },
    "id": "GJuoTvnGnKiM",
    "outputId": "a5eddf04-0d49-4fbf-bcd8-7293f497b772",
    "scrolled": true
   },
   "outputs": [
    {
     "name": "stdout",
     "output_type": "stream",
     "text": [
      "1\n",
      "[0, 1, 0, 0, 0, 0, 0, 0, 0, 0, 0, 0, 0, 0, 0, 0, 0, 0, 0, 0, 0, 0, 0, 0, 0, 0, 0, 0, 0, 0, 0, 0, 0, 0, 0, 0, 0, 0, 0, 0, 0, 0, 0, 0, 0, 0, 0, 0, 0, 0, 0, 0, 0, 0, 0, 0, 0, 0, 0, 0, 0, 0, 0, 0, 0, 0]\n",
      "a\n"
     ]
    }
   ],
   "source": [
    "ed = EncodeDecode(\"alphabet.txt\")\n",
    "\n",
    "print(ed.encode('a'))\n",
    "oneHot = ed.oneHotEncode('a')\n",
    "print(oneHot)\n",
    "print(ed.oneHotDecode(oneHot))\n"
   ]
  },
  {
   "cell_type": "code",
   "execution_count": 5,
   "metadata": {
    "colab": {
     "base_uri": "https://localhost:8080/"
    },
    "id": "rRwb0-nAsLx-",
    "outputId": "1a056297-8208-44d7-a4a9-32bf48e1923e"
   },
   "outputs": [
    {
     "name": "stdout",
     "output_type": "stream",
     "text": [
      "seconde##################\tsecond###################\tA\n",
      "\n"
     ]
    }
   ],
   "source": [
    "file = open(\"lemmatisation_train_A.txt\",\"r\")\n",
    "print(file.readline())\n",
    "line = file.readline()\n",
    "file.close()"
   ]
  },
  {
   "cell_type": "code",
   "execution_count": 6,
   "metadata": {
    "colab": {
     "base_uri": "https://localhost:8080/"
    },
    "id": "9v0BE4KEsLx_",
    "outputId": "4322a6bb-e223-42e8-b781-246c351a127c"
   },
   "outputs": [
    {
     "name": "stdout",
     "output_type": "stream",
     "text": [
      "['bonne####################', 'bon######################', 'A']\n"
     ]
    }
   ],
   "source": [
    "print(line.split())"
   ]
  },
  {
   "cell_type": "code",
   "execution_count": 7,
   "metadata": {
    "colab": {
     "base_uri": "https://localhost:8080/"
    },
    "id": "lKPLdukssLx_",
    "outputId": "f080eb12-7744-4a9c-d9f3-dfcadff0bf12"
   },
   "outputs": [
    {
     "name": "stdout",
     "output_type": "stream",
     "text": [
      "Certes\tcertes\tADV\n",
      "\n"
     ]
    }
   ],
   "source": [
    "file = open(\"lemmatisation_train_origin.txt\",\"r\")\n",
    "print(file.readline())\n",
    "file.close()"
   ]
  },
  {
   "cell_type": "code",
   "execution_count": 8,
   "metadata": {
    "colab": {
     "base_uri": "https://localhost:8080/"
    },
    "id": "pCjLDnz-Fz2T",
    "outputId": "6150421c-fca7-49ba-e398-7bcb69484c4f"
   },
   "outputs": [
    {
     "name": "stdout",
     "output_type": "stream",
     "text": [
      "Certes###################\tcertes###################\tADV\n",
      "\n"
     ]
    }
   ],
   "source": [
    "file = open(\"lemmatisation_train.txt\",\"r\")\n",
    "print(file.readline())\n",
    "file.close()"
   ]
  },
  {
   "cell_type": "markdown",
   "metadata": {
    "id": "i49URhensLyA"
   },
   "source": [
    "## Traitement des données "
   ]
  },
  {
   "cell_type": "code",
   "execution_count": 9,
   "metadata": {
    "id": "i9yLW_b6sLyB"
   },
   "outputs": [],
   "source": [
    "def traitement_categ(fichier : str) : \n",
    "    \"\"\"Transforme les mots en liste de OneHot, chaque lettre est associée à une liste de OneHot de 66 bit, chaque mot est une liste \n",
    "    de taille 25\"\"\"\n",
    "    x = []  # Liste de X\n",
    "    y = []  # Liste de Y \n",
    "    file = open(fichier,\"r\")\n",
    "    for line in file:\n",
    "        l = line.split()\n",
    "        xx = []\n",
    "        for i in l[0] : \n",
    "            xx.append(ed.oneHotEncode(i))  \n",
    "        x.append(xx)\n",
    "        yy = []\n",
    "        for i in l[1] : \n",
    "            yy.append(ed.oneHotEncode(i))\n",
    "        y.append(yy)       \n",
    "    file.close()\n",
    "    x = np.asarray(x)\n",
    "    y = np.asarray(y)\n",
    "    return x,y"
   ]
  },
  {
   "cell_type": "code",
   "execution_count": 10,
   "metadata": {
    "id": "wSv7G8-DsLyB"
   },
   "outputs": [],
   "source": [
    "def traitement_gene(fichier : str, nb_train = 100) : # nb_train est le nombre d'exemple que vont contenir X et y train\n",
    "    x = []\n",
    "    y = []\n",
    "    file = open(fichier,\"r\")\n",
    "    for i in range(nb_train) : \n",
    "        line = file.readline()\n",
    "        l = line.split()\n",
    "        \n",
    "        if len(l[2]) == 3 :\n",
    "\n",
    "          xx = []\n",
    "\n",
    "          for j in l[0] : \n",
    "            xx.append(ed.oneHotEncode(j))\n",
    "\n",
    "          for j in l[2] :  # catégories \n",
    "              if j != \"+\" : \n",
    "                xx.append(ed.oneHotEncode(j)) # General\n",
    "              else : \n",
    "                xx.append(ed.oneHotEncode(\"#\"))\n",
    "          x.append(xx)\n",
    "\n",
    "          yy = []\n",
    "          for j in l[1] : \n",
    "              yy.append(ed.oneHotEncode(j))\n",
    "          yy.append(ed.oneHotEncode(\"#\"))\n",
    "          yy.append(ed.oneHotEncode(\"#\"))\n",
    "          yy.append(ed.oneHotEncode(\"#\"))\n",
    "          y.append(yy)    \n",
    "\n",
    "        elif len(l[2]) == 1 :\n",
    "\n",
    "          xx = [] \n",
    "\n",
    "          for j in l[0] : \n",
    "            xx.append(ed.oneHotEncode(j))\n",
    "\n",
    "          xx.append(ed.oneHotEncode(l[2]))\n",
    "          xx.append(ed.oneHotEncode(\"#\"))\n",
    "          xx.append(ed.oneHotEncode(\"#\"))     \n",
    "        \n",
    "          x.append(xx)\n",
    "\n",
    "          yy = []\n",
    "          for j in l[1] : \n",
    "              yy.append(ed.oneHotEncode(j))\n",
    "          yy.append(ed.oneHotEncode(\"#\"))\n",
    "          yy.append(ed.oneHotEncode(\"#\"))\n",
    "          yy.append(ed.oneHotEncode(\"#\"))\n",
    "          y.append(yy)   \n",
    "              \n",
    "    file.close()\n",
    "    x = np.asarray(x)\n",
    "    y = np.asarray(y)\n",
    "    return x,y"
   ]
  },
  {
   "cell_type": "code",
   "execution_count": 11,
   "metadata": {
    "id": "mx_7gclQsLyB"
   },
   "outputs": [],
   "source": [
    "def decode(y) : \n",
    "  \"\"\"Prends en entrée une matrice de mot(s) en OneHotEncode et renvoie un mot ou une liste de mot en str\"\"\"\n",
    "  if y.shape == (25, 66) or y.shape == (28, 66):\n",
    "        lemme = \"\"\n",
    "        for i in y : \n",
    "            lemme += ed.oneHotDecode(i)\n",
    "  else : \n",
    "      lemme = []\n",
    "      for j in y : \n",
    "          mot = \"\"\n",
    "          for i in j : \n",
    "              mot += ed.oneHotDecode(i)\n",
    "          lemme.append(mot)\n",
    "  return lemme"
   ]
  },
  {
   "cell_type": "markdown",
   "metadata": {
    "id": "7X--nt7MsLyC"
   },
   "source": [
    "## Lemmatiseur catégoriel"
   ]
  },
  {
   "cell_type": "markdown",
   "metadata": {
    "id": "7Jw9VRZoevzJ"
   },
   "source": [
    "Le modèle doit reconnaitre une forme et en donner le lemme  (couvent) → couver. Chaque modèle est spécifique à la catégorie. \n"
   ]
  },
  {
   "cell_type": "markdown",
   "metadata": {
    "id": "FKyoKfMasLyC"
   },
   "source": [
    "### Données "
   ]
  },
  {
   "cell_type": "code",
   "execution_count": 12,
   "metadata": {
    "id": "gbG2JaxgsLyC"
   },
   "outputs": [],
   "source": [
    "# Adjectifs\n",
    "X_train_A, y_train_A = traitement_categ(\"lemmatisation_train_A.txt\")\n",
    "X_test_A, y_test_A = traitement_categ(\"lemmatisation_test_A.txt\")\n",
    "\n",
    "# Verbes\n",
    "X_train_V, y_train_V = traitement_categ(\"lemmatisation_train_V.txt\")\n",
    "X_test_V, y_test_V = traitement_categ(\"lemmatisation_test_V.txt\")\n",
    "\n",
    "# Noms\n",
    "X_train_N, y_train_N = traitement_categ(\"lemmatisation_train_N.txt\")\n",
    "X_test_N, y_test_N = traitement_categ(\"lemmatisation_test_N.txt\")"
   ]
  },
  {
   "cell_type": "code",
   "execution_count": 13,
   "metadata": {
    "colab": {
     "base_uri": "https://localhost:8080/"
    },
    "id": "zqaNIdJwfHOp",
    "outputId": "343ebadb-56f7-404d-98cb-fbda99a8c983"
   },
   "outputs": [
    {
     "name": "stdout",
     "output_type": "stream",
     "text": [
      "(18283, 25, 66) (18283, 25, 66)\n"
     ]
    }
   ],
   "source": [
    "print(X_train_A.shape, y_train_A.shape)"
   ]
  },
  {
   "cell_type": "markdown",
   "metadata": {
    "id": "R0sc1WiEsLyD"
   },
   "source": [
    "### Modèle "
   ]
  },
  {
   "cell_type": "code",
   "execution_count": 14,
   "metadata": {
    "id": "JGB0HxvlsLyE"
   },
   "outputs": [],
   "source": [
    "def model() :\n",
    "    mod = Sequential()\n",
    "    mod.add(keras.Input(shape=(25,66)))\n",
    "    mod.add(GRU(units = 66, return_sequences=True,\n",
    "                activation=\"tanh\", recurrent_activation=\"sigmoid\"))\n",
    "    mod.add(layers.Dense(66))\n",
    "    mod.compile(loss= 'MeanSquaredError',       #'categorical_crossentropy', <- Mauvais résultats sur jeu de données de Verbes      \n",
    "              optimizer='adam',\n",
    "              metrics=['accuracy']) \n",
    "    return mod"
   ]
  },
  {
   "cell_type": "markdown",
   "metadata": {
    "id": "5Bix7yCKkgDW"
   },
   "source": [
    "- **Train**"
   ]
  },
  {
   "cell_type": "code",
   "execution_count": 15,
   "metadata": {
    "colab": {
     "base_uri": "https://localhost:8080/"
    },
    "id": "3vykGt8psLyE",
    "outputId": "770fb728-0bf1-4616-eb02-19f7ee3c79b5"
   },
   "outputs": [
    {
     "name": "stdout",
     "output_type": "stream",
     "text": [
      "Epoch 1/2\n",
      "572/572 [==============================] - 11s 16ms/step - loss: 0.0040 - accuracy: 0.8601\n",
      "Epoch 2/2\n",
      "572/572 [==============================] - 9s 15ms/step - loss: 5.4602e-04 - accuracy: 0.9820\n"
     ]
    },
    {
     "data": {
      "text/plain": [
       "<tensorflow.python.keras.callbacks.History at 0x7f05b94cce90>"
      ]
     },
     "execution_count": 15,
     "metadata": {
      "tags": []
     },
     "output_type": "execute_result"
    }
   ],
   "source": [
    "# Adjectifs \n",
    "model_A = model()\n",
    "model_A.fit(X_train_A, y_train_A, epochs= 2) # Epochs = 2 pour avoir de meilleurs résultats "
   ]
  },
  {
   "cell_type": "code",
   "execution_count": 16,
   "metadata": {
    "colab": {
     "base_uri": "https://localhost:8080/"
    },
    "id": "Emy22wdSl-eb",
    "outputId": "fe736f51-fe8b-41a2-cbff-40e30a6846ef"
   },
   "outputs": [
    {
     "name": "stdout",
     "output_type": "stream",
     "text": [
      "Epoch 1/3\n",
      "950/950 [==============================] - 17s 16ms/step - loss: 0.0041 - accuracy: 0.8260\n",
      "Epoch 2/3\n",
      "950/950 [==============================] - 15s 15ms/step - loss: 0.0013 - accuracy: 0.9518\n",
      "Epoch 3/3\n",
      "950/950 [==============================] - 15s 16ms/step - loss: 9.2044e-04 - accuracy: 0.9669\n"
     ]
    },
    {
     "data": {
      "text/plain": [
       "<tensorflow.python.keras.callbacks.History at 0x7f05b2767c90>"
      ]
     },
     "execution_count": 16,
     "metadata": {
      "tags": []
     },
     "output_type": "execute_result"
    }
   ],
   "source": [
    "# Verbes \n",
    "model_V = model()\n",
    "model_V.fit(X_train_V, y_train_V, epochs = 3)"
   ]
  },
  {
   "cell_type": "code",
   "execution_count": 17,
   "metadata": {
    "colab": {
     "base_uri": "https://localhost:8080/"
    },
    "id": "wH9ul52cmHC8",
    "outputId": "14003f43-fc72-4568-f46c-c7d0b988764b"
   },
   "outputs": [
    {
     "name": "stdout",
     "output_type": "stream",
     "text": [
      "2047/2047 [==============================] - 34s 16ms/step - loss: 0.0018 - accuracy: 0.9419\n"
     ]
    },
    {
     "data": {
      "text/plain": [
       "<tensorflow.python.keras.callbacks.History at 0x7f05ba46ac90>"
      ]
     },
     "execution_count": 17,
     "metadata": {
      "tags": []
     },
     "output_type": "execute_result"
    }
   ],
   "source": [
    "# Noms\n",
    "model_N = model()\n",
    "model_N.fit(X_train_N, y_train_N)"
   ]
  },
  {
   "cell_type": "markdown",
   "metadata": {
    "id": "8mYdZnYOkuQF"
   },
   "source": [
    "- **Test**\n"
   ]
  },
  {
   "cell_type": "code",
   "execution_count": 18,
   "metadata": {
    "colab": {
     "base_uri": "https://localhost:8080/"
    },
    "id": "ThakRehbkvzB",
    "outputId": "b97f376d-9337-4b42-f5a1-78b1472c2b8d"
   },
   "outputs": [
    {
     "name": "stdout",
     "output_type": "stream",
     "text": [
      "76/76 [==============================] - 1s 5ms/step - loss: 4.0008e-04 - accuracy: 0.9866\n",
      "Le model A présente une accuracy à 0.9865617156028748 et un loss à 0.00040007574716582894\n"
     ]
    }
   ],
   "source": [
    "# Adjectifs \n",
    "ev_A = model_A.evaluate(X_test_A,y_test_A)\n",
    "print(\"Le model A présente une accuracy à {1} et un loss à {0}\".format(ev_A[0], ev_A[1]))"
   ]
  },
  {
   "cell_type": "code",
   "execution_count": 19,
   "metadata": {
    "colab": {
     "base_uri": "https://localhost:8080/"
    },
    "id": "KGqJcXRvlpIj",
    "outputId": "adefb34a-2b25-487b-e513-eb9d3e02281d"
   },
   "outputs": [
    {
     "name": "stdout",
     "output_type": "stream",
     "text": [
      "131/131 [==============================] - 1s 6ms/step - loss: 8.0916e-04 - accuracy: 0.9709\n",
      "Le model V présente une accuracy à 0.9708577990531921 et un loss à 0.0008091619820334017\n"
     ]
    }
   ],
   "source": [
    "# Verbes \n",
    "ev_V = model_V.evaluate(X_test_V,y_test_V)\n",
    "print(\"Le model V présente une accuracy à {1} et un loss à {0}\".format(ev_V[0], ev_V[1]))"
   ]
  },
  {
   "cell_type": "code",
   "execution_count": 20,
   "metadata": {
    "colab": {
     "base_uri": "https://localhost:8080/"
    },
    "id": "YM16lsRamVxT",
    "outputId": "88cd74bf-bfb0-445c-eb7f-51d5fa90e7f9"
   },
   "outputs": [
    {
     "name": "stdout",
     "output_type": "stream",
     "text": [
      "263/263 [==============================] - 2s 6ms/step - loss: 2.3791e-04 - accuracy: 0.9923\n",
      "Le model N présente une accuracy à 0.9922882914543152 et un loss à 0.00023790918930899352\n"
     ]
    }
   ],
   "source": [
    "# Noms \n",
    "ev_N = model_N.evaluate(X_test_N,y_test_N)\n",
    "print(\"Le model N présente une accuracy à {1} et un loss à {0}\".format(ev_N[0], ev_N[1]))"
   ]
  },
  {
   "cell_type": "markdown",
   "metadata": {
    "id": "9PmWJ5HarP3l"
   },
   "source": [
    "- **Exemple de traitement de données par les modèles**"
   ]
  },
  {
   "cell_type": "markdown",
   "metadata": {
    "id": "EK8Gclf7I9oW"
   },
   "source": [
    "- Modèle A "
   ]
  },
  {
   "cell_type": "code",
   "execution_count": 21,
   "metadata": {
    "colab": {
     "base_uri": "https://localhost:8080/"
    },
    "id": "M1eADdWyrWn2",
    "outputId": "0f5d138f-178c-4bd6-ee78-d826af6b3599"
   },
   "outputs": [
    {
     "name": "stdout",
     "output_type": "stream",
     "text": [
      "Forme :  ['espagnole################', 'première#################', 'espagnole################', 'premiers#################', 'financiers###############']\n",
      "Lemme :  ['espagnol#################', 'premier##################', 'espagnol#################', 'premier##################', 'financier################']\n",
      "Lemme prédit :  ['espagnol#################', 'premier##################', 'espagnol#################', 'premier##################', 'financier################']\n"
     ]
    }
   ],
   "source": [
    "print(\"Forme : \", decode(X_test_A[:5]))\n",
    "y_pred_A = model_A.predict(X_test_A[:5])\n",
    "print(\"Lemme : \", decode(y_test_A[:5]))\n",
    "print(\"Lemme prédit : \",decode(y_pred_A))"
   ]
  },
  {
   "cell_type": "markdown",
   "metadata": {
    "id": "v4FThe1ZIxXp"
   },
   "source": [
    "On peut relever une erreur percutante pour le modèle A : les \"e\" à la fin des lemmes sont oubliés. "
   ]
  },
  {
   "cell_type": "markdown",
   "metadata": {
    "id": "s-rT5L80JT9P"
   },
   "source": [
    "- Modèle V "
   ]
  },
  {
   "cell_type": "code",
   "execution_count": 22,
   "metadata": {
    "colab": {
     "base_uri": "https://localhost:8080/"
    },
    "id": "0SGzqkEpJVvE",
    "outputId": "b80feb84-2e81-4804-c533-4936fa63c318"
   },
   "outputs": [
    {
     "name": "stdout",
     "output_type": "stream",
     "text": [
      "Forme :  ['vient####################', 'hispaniser###############', 'étendre##################', 'resserrant###############', 'est######################']\n",
      "Lemme :  ['venir####################', 'hispaniser###############', 'étendre##################', 'resserrer################', 'être#####################']\n",
      "Lemme prédit :  ['vient####################', 'hispaniser###############', 'étendre##################', 'resserrant###############', 'est######################']\n"
     ]
    }
   ],
   "source": [
    "print(\"Forme : \", decode(X_test_V[:5]))\n",
    "y_pred_V = model_A.predict(X_test_V[:5])\n",
    "print(\"Lemme : \", decode(y_test_V[:5]))\n",
    "print(\"Lemme prédit : \",decode(y_pred_V))"
   ]
  },
  {
   "cell_type": "markdown",
   "metadata": {
    "id": "70YLUzzvJqvZ"
   },
   "source": [
    "Ici, dans les quelques mots parcourus ont peut voir que le les lettres \"ss\" ont été appris comme ##, cette suite de lettre a donc été oublié par le modèle. "
   ]
  },
  {
   "cell_type": "markdown",
   "metadata": {
    "id": "hKWBoDLuJ4bm"
   },
   "source": [
    "- Modèle N "
   ]
  },
  {
   "cell_type": "code",
   "execution_count": 23,
   "metadata": {
    "colab": {
     "base_uri": "https://localhost:8080/"
    },
    "id": "Y-f-OBTTJ82G",
    "outputId": "3e748053-38d1-47c8-8b32-363cfd1590e3"
   },
   "outputs": [
    {
     "name": "stdout",
     "output_type": "stream",
     "text": [
      "Forme :  ['filiale##################', 'participations###########', 'Espagne##################', 'liens####################', 'Caixa####################']\n",
      "Lemme :  ['filiale##################', 'participation############', 'Espagne##################', 'lien#####################', 'Caixa####################']\n",
      "Lemme prédit :  ['filiale##################', 'participation############', 'Espagne##################', 'lien#####################', 'Caixa####################']\n"
     ]
    }
   ],
   "source": [
    "print(\"Forme : \", decode(X_test_N[:5]))\n",
    "y_pred_N = model_N.predict(X_test_N[:5])\n",
    "print(\"Lemme : \", decode(y_test_N[:5]))\n",
    "print(\"Lemme prédit : \",decode(y_pred_N))"
   ]
  },
  {
   "cell_type": "markdown",
   "metadata": {
    "id": "5zWeWnfaLVDv"
   },
   "source": [
    "Ce modèle ne présente aucune erreur sur les quelques mots parcourus."
   ]
  },
  {
   "cell_type": "markdown",
   "metadata": {
    "id": "0Bzrl6XmWouZ"
   },
   "source": [
    "- **Visualisation des erreurs**"
   ]
  },
  {
   "cell_type": "code",
   "execution_count": 24,
   "metadata": {
    "id": "RgMn5VdvWoYn"
   },
   "outputs": [],
   "source": [
    "def visu_err(y_t, y_p,x_t) :\n",
    "  \"\"\"Affiche le lemme correct et celui prédit par raaport au mot \"\"\"\n",
    "  for t, p, x in zip(y_t, y_p, x_t) : \n",
    "    if decode(t) != decode(p) : \n",
    "      print(\"Le lemme correcte est \", decode(t), \" alors que le lemme donné est \", decode(p), \"le mot de départ étant \", decode(x))"
   ]
  },
  {
   "cell_type": "code",
   "execution_count": 25,
   "metadata": {
    "id": "8dOi-clwXeX8"
   },
   "outputs": [],
   "source": [
    "def visu_correct(y_t, y_p,x_t) :\n",
    "  \"\"\"Affiche les lemme pour un mot lorsque ce dernier est correct \"\"\"\n",
    "  for t, p, x in zip(y_t, y_p, x_t) : \n",
    "    if decode(t) == decode(p) : \n",
    "      print(\"Le lemme correcte est \", decode(t), \"le mot de départ étant \", decode(x))"
   ]
  },
  {
   "cell_type": "markdown",
   "metadata": {
    "id": "YpJWoHUNW_7K"
   },
   "source": [
    "- Modèle A \n"
   ]
  },
  {
   "cell_type": "code",
   "execution_count": 26,
   "metadata": {
    "colab": {
     "base_uri": "https://localhost:8080/"
    },
    "id": "yQ_MtSLYW_Gx",
    "outputId": "be534a4c-2556-49d0-d3ec-b1f401a8678d"
   },
   "outputs": [
    {
     "name": "stdout",
     "output_type": "stream",
     "text": [
      "Le lemme correcte est  concessionnaire##########  alors que le lemme donné est  conce##ionnaire########## le mot de départ étant  concessionnaire##########\n",
      "Le lemme correcte est  exécutif#################  alors que le lemme donné est  exécutiv################# le mot de départ étant  exécutive################\n"
     ]
    }
   ],
   "source": [
    "visu_err(y_test_A, model_A.predict(X_test_A[:20]), X_test_A)"
   ]
  },
  {
   "cell_type": "markdown",
   "metadata": {
    "id": "MfgzaCeOXD4N"
   },
   "source": [
    "- Modèle V"
   ]
  },
  {
   "cell_type": "code",
   "execution_count": 27,
   "metadata": {
    "colab": {
     "base_uri": "https://localhost:8080/"
    },
    "id": "rcJYFr4XXGzi",
    "outputId": "935d8e4e-baf9-4ce9-bba7-e81257337518"
   },
   "outputs": [
    {
     "name": "stdout",
     "output_type": "stream",
     "text": [
      "Le lemme correcte est  venir####################  alors que le lemme donné est  vinir#################### le mot de départ étant  vient####################\n",
      "Le lemme correcte est  étendre##################  alors que le lemme donné est  êtendre################## le mot de départ étant  étendre##################\n",
      "Le lemme correcte est  resserrer################  alors que le lemme donné est  resserr################## le mot de départ étant  resserrant###############\n",
      "Le lemme correcte est  détenir##################  alors que le lemme donné est  détien################### le mot de départ étant  détient##################\n",
      "Le lemme correcte est  détenir##################  alors que le lemme donné est  détiendre################ le mot de départ étant  détiendra################\n",
      "Le lemme correcte est  détenir##################  alors que le lemme donné est  détiendre################ le mot de départ étant  détiendra################\n",
      "Le lemme correcte est  réunir###################  alors que le lemme donné est  réunisser################ le mot de départ étant  réunissant###############\n",
      "Le lemme correcte est  être#####################  alors que le lemme donné est  stre##################### le mot de départ étant  sont#####################\n",
      "Le lemme correcte est  réunir###################  alors que le lemme donné est  réunire################## le mot de départ étant  réunira##################\n",
      "Le lemme correcte est  succéder#################  alors que le lemme donné est  succeder################# le mot de départ étant  succéder#################\n",
      "Le lemme correcte est  pouvoir##################  alors que le lemme donné est  pouroir################## le mot de départ étant  pourrait#################\n"
     ]
    }
   ],
   "source": [
    "visu_err(y_test_V, model_V.predict(X_test_V[:20]), X_test_V)"
   ]
  },
  {
   "cell_type": "code",
   "execution_count": 28,
   "metadata": {
    "colab": {
     "base_uri": "https://localhost:8080/"
    },
    "id": "mgJ612_VQ6OH",
    "outputId": "275367ad-4b49-458d-ca62-7171c09c6068"
   },
   "outputs": [
    {
     "name": "stdout",
     "output_type": "stream",
     "text": [
      "Le lemme correcte est  hispaniser############### le mot de départ étant  hispaniser###############\n",
      "Le lemme correcte est  être##################### le mot de départ étant  est######################\n",
      "Le lemme correcte est  lier##################### le mot de départ étant  liée#####################\n",
      "Le lemme correcte est  prendre################## le mot de départ étant  prend####################\n",
      "Le lemme correcte est  céder#################### le mot de départ étant  cède#####################\n",
      "Le lemme correcte est  conserver################ le mot de départ étant  conserve#################\n",
      "Le lemme correcte est  porter################### le mot de départ étant  portées##################\n",
      "Le lemme correcte est  devoir################### le mot de départ étant  devrait##################\n",
      "Le lemme correcte est  être##################### le mot de départ étant  être#####################\n"
     ]
    }
   ],
   "source": [
    "visu_correct(y_test_V, model_V.predict(X_test_V[:20]), X_test_V)"
   ]
  },
  {
   "cell_type": "markdown",
   "metadata": {
    "id": "ueucDkjHXN7E"
   },
   "source": [
    "- Modèle N"
   ]
  },
  {
   "cell_type": "code",
   "execution_count": 29,
   "metadata": {
    "colab": {
     "base_uri": "https://localhost:8080/"
    },
    "id": "uobBl_fAXQNo",
    "outputId": "c4ae8a31-cc35-42af-a4ff-fb8dcbe00f5d"
   },
   "outputs": [
    {
     "name": "stdout",
     "output_type": "stream",
     "text": [
      "Le lemme correcte est  péninsule################  alors que le lemme donné est  pénin#ule################ le mot de départ étant  péninsule################\n",
      "Le lemme correcte est  société##################  alors que le lemme donné est  Société################## le mot de départ étant  Société##################\n",
      "Le lemme correcte est  eau######################  alors que le lemme donné est  eaux##################### le mot de départ étant  eaux#####################\n"
     ]
    }
   ],
   "source": [
    "visu_err(y_test_N, model_N.predict(X_test_N[:20]), X_test_N)"
   ]
  },
  {
   "cell_type": "code",
   "execution_count": 30,
   "metadata": {
    "colab": {
     "base_uri": "https://localhost:8080/"
    },
    "id": "PzoZ90hcQiHb",
    "outputId": "318da330-1eb8-485e-b738-5c0dfd870843"
   },
   "outputs": [
    {
     "name": "stdout",
     "output_type": "stream",
     "text": [
      "Le lemme correcte est  filiale################## le mot de départ étant  filiale##################\n",
      "Le lemme correcte est  participation############ le mot de départ étant  participations###########\n",
      "Le lemme correcte est  Espagne################## le mot de départ étant  Espagne##################\n",
      "Le lemme correcte est  lien##################### le mot de départ étant  liens####################\n",
      "Le lemme correcte est  Caixa#################### le mot de départ étant  Caixa####################\n",
      "Le lemme correcte est  caisse################### le mot de départ étant  caisse###################\n",
      "Le lemme correcte est  épargne################## le mot de départ étant  épargne##################\n",
      "Le lemme correcte est  établissement############ le mot de départ étant  établissements###########\n",
      "Le lemme correcte est  Barcelone################ le mot de départ étant  Barcelone################\n",
      "Le lemme correcte est  SGAB##################### le mot de départ étant  SGAB#####################\n",
      "Le lemme correcte est  groupe################### le mot de départ étant  groupe###################\n",
      "Le lemme correcte est  service################## le mot de départ étant  services#################\n",
      "Le lemme correcte est  Caixa#################### le mot de départ étant  Caixa####################\n",
      "Le lemme correcte est  capital################## le mot de départ étant  capital##################\n",
      "Le lemme correcte est  Caixa#################### le mot de départ étant  Caixa####################\n",
      "Le lemme correcte est  Espana################### le mot de départ étant  Espana###################\n",
      "Le lemme correcte est  groupe################### le mot de départ étant  groupe###################\n"
     ]
    }
   ],
   "source": [
    "visu_correct(y_test_N, model_N.predict(X_test_N[:20]), X_test_N)"
   ]
  },
  {
   "cell_type": "markdown",
   "metadata": {
    "id": "GC3hQhP_N2TU"
   },
   "source": [
    "###Conclusion des lemmatiseurs catégoriels"
   ]
  },
  {
   "cell_type": "markdown",
   "metadata": {
    "id": "7StR8DrJOZMr"
   },
   "source": [
    "Ces trois lemmatiseurs ont de bons taux d'accuracy, tous proches de 1. Cependant, on peut tout de même observer une différence entre les performances de chaque lemmatiseur : en effet, le modèle N semble être le plus performant et le modèle V le moins performant.  \n",
    "Cette différence peut s'expliquer du fait que le modèle V a un plus gros travail à réaliser par rapport aux deux autres modèles. Effectivement, la forme verbale présente plus de diversités que les noms ou les adjectifs et les possibilités de se tromper sur l'infinitif d'un verbe sont donc accrues.  \n",
    "Aussi, le modèle N présente un taux d'accuracy supérieur au modèle A pour des raisons similiaires."
   ]
  },
  {
   "cell_type": "markdown",
   "metadata": {
    "id": "vMFf13FCwLVP"
   },
   "source": [
    "## Lemmatiseur général"
   ]
  },
  {
   "cell_type": "markdown",
   "metadata": {
    "id": "aal5gEo4Kj7X"
   },
   "source": [
    "Le modèle doit reconnaitre une forme et en donner le lemme  (couvent, V) → couver."
   ]
  },
  {
   "cell_type": "markdown",
   "metadata": {
    "id": "-XZbf4OnKndN"
   },
   "source": [
    "### Données "
   ]
  },
  {
   "cell_type": "code",
   "execution_count": 31,
   "metadata": {
    "colab": {
     "base_uri": "https://localhost:8080/"
    },
    "id": "DEiFj_iHAyJW",
    "outputId": "21b81aad-c2ff-4b17-a30d-76dde8acd566"
   },
   "outputs": [
    {
     "name": "stdout",
     "output_type": "stream",
     "text": [
      "Le fichier contient  209271 exemples à apprendre au modèle\n"
     ]
    }
   ],
   "source": [
    "f = open('lemmatisation_train.txt', 'r')\n",
    "text=f.readlines()\n",
    "NumberOfLine = len(text)\n",
    "f.close()\n",
    "print(\"Le fichier contient \",NumberOfLine, \"exemples à apprendre au modèle\")"
   ]
  },
  {
   "cell_type": "code",
   "execution_count": 32,
   "metadata": {
    "id": "UyPsFd06A2fy"
   },
   "outputs": [],
   "source": [
    "nb_train = 25000 # on coupe le jeu de données d'entrainement car il est trop grand pour être traité d'un seul coup\n",
    "nb_test = 10000 # les catégories de test sont triées donc il y aura moins de valeur de test en réalité "
   ]
  },
  {
   "cell_type": "code",
   "execution_count": 33,
   "metadata": {
    "colab": {
     "base_uri": "https://localhost:8080/"
    },
    "id": "XqjjxT7oKkls",
    "outputId": "30ec8299-c34c-4979-ff81-e77ba19c8197"
   },
   "outputs": [
    {
     "data": {
      "text/plain": [
       "(24472, 28, 66)"
      ]
     },
     "execution_count": 33,
     "metadata": {
      "tags": []
     },
     "output_type": "execute_result"
    }
   ],
   "source": [
    "X_train, y_train = traitement_gene(\"lemmatisation_train.txt\", nb_train)  \n",
    "X_test, y_test = traitement_gene(\"lemmatisation_test.txt\", nb_test )  \n",
    "X_train.shape"
   ]
  },
  {
   "cell_type": "markdown",
   "metadata": {
    "id": "qpbUC8GAxGQX"
   },
   "source": [
    "### Modèle \n"
   ]
  },
  {
   "cell_type": "code",
   "execution_count": 34,
   "metadata": {
    "id": "UzK10DeVV9SK"
   },
   "outputs": [],
   "source": [
    "def model_general() :\n",
    "    mod = Sequential()\n",
    "    mod.add(keras.Input(shape=(28,66)))\n",
    "    mod.add(GRU(units = 66, return_sequences=True,\n",
    "                activation=\"tanh\", recurrent_activation=\"sigmoid\"))\n",
    "    mod.add(layers.Dense(66))\n",
    "    mod.compile(loss= 'MeanSquaredError',             \n",
    "              optimizer='adam',\n",
    "              metrics=['accuracy']) \n",
    "    return mod"
   ]
  },
  {
   "cell_type": "markdown",
   "metadata": {
    "id": "YDypF0-3XOHc"
   },
   "source": [
    "- **Train**"
   ]
  },
  {
   "cell_type": "code",
   "execution_count": 35,
   "metadata": {
    "colab": {
     "base_uri": "https://localhost:8080/"
    },
    "id": "w0KYkX5GXO82",
    "outputId": "70c3254c-e602-4f21-abf4-492a33238e81"
   },
   "outputs": [
    {
     "name": "stdout",
     "output_type": "stream",
     "text": [
      "765/765 [==============================] - 15s 17ms/step - loss: 0.0032 - accuracy: 0.8938\n"
     ]
    },
    {
     "data": {
      "text/plain": [
       "<tensorflow.python.keras.callbacks.History at 0x7f05b9a27710>"
      ]
     },
     "execution_count": 35,
     "metadata": {
      "tags": []
     },
     "output_type": "execute_result"
    }
   ],
   "source": [
    "model_gene = model_general()\n",
    "model_gene.fit(X_train, y_train)"
   ]
  },
  {
   "cell_type": "markdown",
   "metadata": {
    "id": "2cu9G8iEQSJX"
   },
   "source": [
    "- **Test**"
   ]
  },
  {
   "cell_type": "code",
   "execution_count": 36,
   "metadata": {
    "colab": {
     "base_uri": "https://localhost:8080/"
    },
    "id": "l6GXQU8XLhn2",
    "outputId": "4fe76bf5-1617-4fe7-a3be-854b0f36d5c9"
   },
   "outputs": [
    {
     "name": "stdout",
     "output_type": "stream",
     "text": [
      "306/306 [==============================] - 2s 6ms/step - loss: 7.1560e-04 - accuracy: 0.9739\n",
      "Le model présente une accuracy à 0.9739189743995667 et un loss à 0.0007155959028750658\n"
     ]
    }
   ],
   "source": [
    "ev_gene = model_gene.evaluate(X_test,y_test)\n",
    "print(\"Le model présente une accuracy à {1} et un loss à {0}\".format(ev_gene[0], ev_gene[1]))"
   ]
  },
  {
   "cell_type": "markdown",
   "metadata": {
    "id": "dWnh6gflXkl0"
   },
   "source": [
    "### Résultats\n"
   ]
  },
  {
   "cell_type": "code",
   "execution_count": 37,
   "metadata": {
    "id": "V2unp8TMaa0G"
   },
   "outputs": [],
   "source": [
    "def dic_categ(x) : \n",
    "  \"\"\"Renvoie une liste des catégories présente dans le jeu de données\"\"\"\n",
    "    dic = []\n",
    "    for i in x : \n",
    "        cat = ed.oneHotDecode(i[25])+ ed.oneHotDecode(i[26])+ ed.oneHotDecode(i[27])\n",
    "    if cat not in dic : \n",
    "        dic.append(cat)\n",
    "    return dic"
   ]
  },
  {
   "cell_type": "code",
   "execution_count": 38,
   "metadata": {
    "colab": {
     "base_uri": "https://localhost:8080/"
    },
    "id": "2Xr9mZhrbame",
    "outputId": "6e1195f1-9b7a-4886-fec5-aad604e69f9c"
   },
   "outputs": [
    {
     "name": "stdout",
     "output_type": "stream",
     "text": [
      "Les categories possible sont :  ['ADV', 'PRO', 'V##', 'D##', 'A##', 'N##', 'P##', 'P#D', 'C##', 'I##']\n"
     ]
    }
   ],
   "source": [
    "categories = dic_categ(X_train)\n",
    "print(\"Les categories possible sont : \",categories)"
   ]
  },
  {
   "cell_type": "code",
   "execution_count": 39,
   "metadata": {
    "id": "h0noXTPKXobA"
   },
   "outputs": [],
   "source": [
    "def err_categ(y_t, y_p,x_t,categ) :\n",
    "  \"\"\"Renvoie une liste des erreurs par catégorie ainsi que le nombre de mot de chaque catégories \"\"\"\n",
    "  mat = [0 for i in range(len(categ))]\n",
    "  ind = []\n",
    "  nb = [0 for i in range(len(categ))] # liste du nombre de chaque catégories au total\n",
    "  \n",
    "  for xt in x_t : \n",
    "    ind.append(categ.index(ed.oneHotDecode(xt[25])+ ed.oneHotDecode(xt[26])+ ed.oneHotDecode(xt[27])))\n",
    "  for t, p, i in zip(y_t, y_p, ind) : \n",
    "    nb[i] += 1 \n",
    "    if decode(t) != decode(p) : \n",
    "      mat[i] += 1 \n",
    "  return mat,nb\n",
    "      "
   ]
  },
  {
   "cell_type": "code",
   "execution_count": 40,
   "metadata": {
    "id": "xl5MmbfC68BA"
   },
   "outputs": [],
   "source": [
    "y_pred = model_gene.predict(X_test)\n",
    "nb_erreur_categ, total_categ = err_categ(y_test, y_pred ,X_test,categories)"
   ]
  },
  {
   "cell_type": "code",
   "execution_count": 41,
   "metadata": {
    "colab": {
     "base_uri": "https://localhost:8080/",
     "height": 504
    },
    "id": "T1BNrqke8MO2",
    "outputId": "45750f5b-e63f-4713-e1b2-17a657fdecb1"
   },
   "outputs": [
    {
     "data": {
      "image/png": "[encoded data removed]",
      "text/plain": [
       "<Figure size 576x576 with 1 Axes>"
      ]
     },
     "metadata": {
      "tags": []
     },
     "output_type": "display_data"
    }
   ],
   "source": [
    "name = categories\n",
    "data = [nb_erreur_categ[i]/total_categ[i] for i in range(len(categories)) ] # fréquence d'erreur par catégorie \n",
    "plt.figure(figsize=(8,8))\n",
    "\n",
    "plt.pie(data,  labels=name, autopct='%1.1f%%', startangle=90, shadow=True)\n",
    "plt.axis('equal')\n",
    "plt.title(\"Pourcentage d'erreur selon la catégorie\", pad=20, fontsize = 15)\n",
    "plt.show()"
   ]
  },
  {
   "cell_type": "code",
   "execution_count": 42,
   "metadata": {
    "colab": {
     "base_uri": "https://localhost:8080/",
     "height": 516
    },
    "id": "ivpYct5Y8O8i",
    "outputId": "7c8dfe3e-1d1c-4944-ffaf-0db0e897a81c"
   },
   "outputs": [
    {
     "data": {
      "image/png": "[encoded data removed]",
      "text/plain": [
       "<Figure size 576x576 with 1 Axes>"
      ]
     },
     "metadata": {
      "needs_background": "light",
      "tags": []
     },
     "output_type": "display_data"
    }
   ],
   "source": [
    "datat = sorted(data) \n",
    "\n",
    "def f(a, LL = datat, L=data):\n",
    "    return LL.index(L[name.index(a)])\n",
    "\n",
    "namet=sorted(name, key = f)\n",
    "\n",
    "plt.figure(figsize=(8,8))\n",
    "plt.bar(namet, datat)\n",
    "plt.title(\"Fréquence d'erreur selon la catégorie\", pad=20, fontsize = 15)\n",
    "plt.show() "
   ]
  },
  {
   "cell_type": "code",
   "execution_count": 43,
   "metadata": {
    "colab": {
     "base_uri": "https://localhost:8080/"
    },
    "id": "B13iHUJ_6NB2",
    "outputId": "cf9e5e40-4b74-43fa-8552-6b559435ae02"
   },
   "outputs": [
    {
     "name": "stdout",
     "output_type": "stream",
     "text": [
      "L'erreur sur la catégorie  I##  est de  1.0  sur un total de  4\n"
     ]
    }
   ],
   "source": [
    "print(\"L'erreur sur la catégorie \",namet[-1], \" est de \", datat[-1], \" sur un total de \",total_categ[categories.index(\"I##\")])"
   ]
  },
  {
   "cell_type": "markdown",
   "metadata": {
    "id": "w8jCBiLP9ImW"
   },
   "source": [
    "L'erreur sur la catégorie I## peut s'expliquer par le nombre très faible d'exemple dans les données de test. "
   ]
  },
  {
   "cell_type": "markdown",
   "metadata": {
    "id": "l-8B40sGXx_E"
   },
   "source": [
    "### Visualisation des résultats "
   ]
  },
  {
   "cell_type": "code",
   "execution_count": 44,
   "metadata": {
    "colab": {
     "base_uri": "https://localhost:8080/"
    },
    "id": "22qCYuoWX693",
    "outputId": "7ea4ed6e-661f-45bf-a2e9-e98192e0b46f"
   },
   "outputs": [
    {
     "name": "stdout",
     "output_type": "stream",
     "text": [
      "Le lemme correcte est  venir#######################  alors que le lemme donné est  vient####################### le mot de départ étant  vient####################V##\n",
      "Le lemme correcte est  son#########################  alors que le lemme donné est  sa########################## le mot de départ étant  sa#######################D##\n",
      "Le lemme correcte est  espagnol####################  alors que le lemme donné est  e#pagnole################### le mot de départ étant  espagnole################A##\n",
      "Le lemme correcte est  son#########################  alors que le lemme donné est  se########################## le mot de départ étant  ses######################D##\n",
      "Le lemme correcte est  participation###############  alors que le lemme donné est  participations############## le mot de départ étant  participations###########N##\n",
      "Le lemme correcte est  Espagne#####################  alors que le lemme donné est  espagne##################### le mot de départ étant  Espagne##################N##\n",
      "Le lemme correcte est  resserrer###################  alors que le lemme donné est  re#serrant################## le mot de départ étant  resserrant###############V##\n",
      "Le lemme correcte est  son#########################  alors que le lemme donné est  se########################## le mot de départ étant  ses######################D##\n",
      "Le lemme correcte est  lien########################  alors que le lemme donné est  liens####################### le mot de départ étant  liens####################N##\n",
      "Le lemme correcte est  le##########################  alors que le lemme donné est  la########################## le mot de départ étant  la#######################D##\n",
      "Le lemme correcte est  Caixa#######################  alors que le lemme donné est  #aixa####################### le mot de départ étant  Caixa####################N##\n",
      "Le lemme correcte est  premier#####################  alors que le lemme donné est  première#################### le mot de départ étant  première#################A##\n"
     ]
    }
   ],
   "source": [
    "visu_err(y_test[0:20], y_pred[0:20],X_test[0:20])"
   ]
  },
  {
   "cell_type": "code",
   "execution_count": 45,
   "metadata": {
    "colab": {
     "base_uri": "https://localhost:8080/"
    },
    "id": "5YmmUiElPCRn",
    "outputId": "d66f2501-5499-467c-8d5d-f6ab586a74ca"
   },
   "outputs": [
    {
     "name": "stdout",
     "output_type": "stream",
     "text": [
      "Le lemme correcte est  hispaniser################## le mot de départ étant  hispaniser###############V##\n",
      "Le lemme correcte est  filiale##################### le mot de départ étant  filiale##################N##\n",
      "Le lemme correcte est  et########################## le mot de départ étant  et#######################C##\n",
      "Le lemme correcte est  étendre##################### le mot de départ étant  étendre##################V##\n",
      "Le lemme correcte est  en########################## le mot de départ étant  en#######################P##\n",
      "Le lemme correcte est  tout######################## le mot de départ étant  tout#####################ADV\n",
      "Le lemme correcte est  en########################## le mot de départ étant  en#######################P##\n",
      "Le lemme correcte est  avec######################## le mot de départ étant  avec#####################P##\n"
     ]
    }
   ],
   "source": [
    "visu_correct(y_test[0:20], y_pred[0:20],X_test[0:20])"
   ]
  },
  {
   "cell_type": "markdown",
   "metadata": {
    "id": "jmqv5uRHU4qX"
   },
   "source": [
    "### Conclusion du lemmatiseur général"
   ]
  },
  {
   "cell_type": "markdown",
   "metadata": {
    "id": "ilsbY2TtQ59z"
   },
   "source": [
    "En observant ces deux graphiques ci-dessus on peut voir que, bien que la performance globale du modèle soit correcte, il y a des disparités en fonction des catégories de mots. En effet, les interjections et les verbes sont les catégories qui génèrent le plus d'erreurs tandis que les prépositions et les conjonctions sont les catégories générant le moins d'erreurs. \n",
    "\n",
    "\n",
    "La catégorie des interjections est celle qui à le plus gros pourcentage d'erreur ainsi que la plus grosse fréquence d'erreur : ceci peut s'expliquer par la difficulté pour le modèle de distinguer les petites différences entre les différentes interjections. Effectivement, il n'y a parfois qu'une lettre de différence comme par exemple pour \"Ah\", \"Eh\", \"Oh\", etc. Aussi, quelques unes peuvent s'écrire dans les deux sens comme par exemple \"Ah\" et \"Ha\", \"Eh\" et \"He\" ce qui ajoute une difficulté de reconnaissance du lemme, d'autant plus qu'il y a peu d'exemples de cette catégorie dans les données de test.  \n",
    "\n",
    "En ce qui concerne les verbes, qui est la deuxième catégorie avec les plus gros pourcentage et fréquence d'erreur, c'est le même problème qu'a rencontré le lemmatiseur catégoriel : les nombreuses formes possible des verbes rendent sûrement difficile la reconnaissance de la forme infinitive et donc du lemme.\n",
    "\n",
    "On peut aussi observer des erreurs assez étonnante de notre lemmatisateur général par rapport à notre lémmatisateur catégoriel sur les majuscules. En effet, on peut voir qu'un certain nombre d'erreurs se situent sur les noms propre, commençant par une majuscules, ou sur les abréviations, que l'on écrit en majuscules. Les erreurs sont quasiment systématiques, même si certains noms propres et certaines abréviations sont traitées correctement, alors que nous avons vu que le lemmatisateur catégoriel était très efficace sur ce type de mots.\n",
    "Cela peut être dû à un faible nombre de majuscules dans les données d'apprentissage. Peut-être un nombre plus grand de majuscules dans ces données pourrait solver ce problème.\n",
    "  \n",
    "Ainsi les catégories où les prédictions du modèle sont les plus justes sont donc les prépositions et les conjonctions. Ceci peut s'expliquer par la forme très peu variable de ces deux catégories : la forme présentée au modèle sera, pour la grande majorité, le lemme à prédire. Le travail du modèle est ainsi amoindri et les erreurs sont par conséquent moins présentes.\n",
    "\n",
    "Le lemmatisateur général semble donc avoir encore quelques difficultés à traiter des formes très différentes de mots (noms, verbes, etc.). Peut-être un apprentissage sur de plus grand jeux de données (que nous n'avons pas fait ici car les temps de traitement sont alors très longs) pourrait solver ce problème.\n",
    "Il faudrait  donc arriver à optimiser encore le réseau et le temps de traitement des données. On sait d'ailleurs que le format de nos données est très lourd, peut-être leur optimisation permettrait des temps de traitement plus faibles car des données plus légères."
   ]
  },
  {
   "cell_type": "markdown",
   "metadata": {
    "id": "LWmpt_d5AeV5"
   },
   "source": [
    "## Pour aller plus loin \n",
    "\n",
    "Nous avons voulu comparer les performances des modèles général et catégoriel sur les catégories N, V et A. \n",
    "\n",
    "Pour cela, nous allons entrainer le modèle catégoriel avec le même nombre d'exemple que le général pour chaque catégorie. Pour tester le modèle général nous allons utiliser un jeu de données composées des jeux de tests de V, N et A. "
   ]
  },
  {
   "cell_type": "markdown",
   "metadata": {
    "id": "2HGNH2_9EfeB"
   },
   "source": [
    "**Préparation des données**"
   ]
  },
  {
   "cell_type": "code",
   "execution_count": 46,
   "metadata": {
    "id": "Pa4RFkfR0THy"
   },
   "outputs": [],
   "source": [
    "def nb_per_categ(x_t, categ) :\n",
    "  \"\"\"Renvoie une liste des erreurs par catégorie ainsi que le nombre de mots de chaque catégorie \"\"\"\n",
    "  ind = []\n",
    "  nb = [0 for i in range(len(categ))] # liste du nombre de chaque catégorie au total\n",
    "  for xt in x_t : \n",
    "    ind.append(categ.index(ed.oneHotDecode(xt[25])+ ed.oneHotDecode(xt[26])+ ed.oneHotDecode(xt[27])))\n",
    "  for i in ind : \n",
    "    nb[i] += 1 \n",
    "  return nb"
   ]
  },
  {
   "cell_type": "code",
   "execution_count": 47,
   "metadata": {
    "colab": {
     "base_uri": "https://localhost:8080/"
    },
    "id": "np4fy5baCd3W",
    "outputId": "a8c9442e-8696-4b0f-f6c5-4aeff3522e0c"
   },
   "outputs": [
    {
     "name": "stdout",
     "output_type": "stream",
     "text": [
      "Il y a 2255 de A\n",
      "Il y a 3580 de V\n",
      "Il y a 7792 de N\n"
     ]
    }
   ],
   "source": [
    "nb_categ = nb_per_categ(X_train, categories)\n",
    "print( \"Il y a\", nb_categ[categories.index(\"A##\")], \"de A\")\n",
    "print( \"Il y a\", nb_categ[categories.index(\"V##\")], \"de V\")\n",
    "print( \"Il y a\", nb_categ[categories.index(\"N##\")], \"de N\")"
   ]
  },
  {
   "cell_type": "code",
   "execution_count": 48,
   "metadata": {
    "id": "OZqybJUcRJEt"
   },
   "outputs": [],
   "source": [
    "A = ed.oneHotEncode(\"A\")\n",
    "V = ed.oneHotEncode(\"V\")\n",
    "N = ed.oneHotEncode(\"N\")\n",
    "dieze = ed.oneHotEncode(\"#\")"
   ]
  },
  {
   "cell_type": "code",
   "execution_count": 49,
   "metadata": {
    "id": "4RxtetXoEkm2"
   },
   "outputs": [],
   "source": [
    "X_test_conf = np.concatenate(\n",
    "    (np.insert(X_test_A[:1000], [25], [[A, dieze, dieze] for i in range(1000)], axis = 1 ),\n",
    "     np.insert(X_test_V[:1000], [25], [[V, dieze, dieze] for i in range(1000)], axis = 1 ), \n",
    "     np.insert(X_test_N[:1000], [25], [[N, dieze, dieze] for i in range(1000)], axis = 1 )\n",
    "     ))\n",
    "y_test_conf = np.concatenate((\n",
    "    np.insert(y_test_A[:1000], [25], [[dieze, dieze, dieze] for i in range(1000)], axis = 1 ),\n",
    "    np.insert(y_test_V[:1000], [25], [[dieze, dieze, dieze] for i in range(1000)], axis = 1 ), \n",
    "    np.insert(y_test_N[:1000], [25], [[dieze, dieze, dieze] for i in range(1000)], axis = 1 )\n",
    "    ))\n",
    "#X_test_conf, y_test_conf = shuffle(X_test_conf, y_test_conf, random_state = 42)"
   ]
  },
  {
   "cell_type": "markdown",
   "metadata": {
    "id": "fPy6RiYdEG70"
   },
   "source": [
    "**Entrainement des modèles catégoriels**\n"
   ]
  },
  {
   "cell_type": "code",
   "execution_count": 50,
   "metadata": {
    "colab": {
     "base_uri": "https://localhost:8080/"
    },
    "id": "br7P-RmjDTrh",
    "outputId": "97f5921b-c8f5-4bca-e550-5d671f4b572d"
   },
   "outputs": [
    {
     "name": "stdout",
     "output_type": "stream",
     "text": [
      "71/71 [==============================] - 3s 16ms/step - loss: 0.0096 - accuracy: 0.5963\n"
     ]
    },
    {
     "data": {
      "text/plain": [
       "<tensorflow.python.keras.callbacks.History at 0x7f05aa289e10>"
      ]
     },
     "execution_count": 50,
     "metadata": {
      "tags": []
     },
     "output_type": "execute_result"
    }
   ],
   "source": [
    "model_A = model()\n",
    "model_A.fit(X_train_A[:nb_categ[categories.index(\"A##\")]], y_train_A[:nb_categ[categories.index(\"A##\")]])"
   ]
  },
  {
   "cell_type": "code",
   "execution_count": 51,
   "metadata": {
    "colab": {
     "base_uri": "https://localhost:8080/"
    },
    "id": "sofBrYIvCp1m",
    "outputId": "0da2f964-94ab-40a9-ddeb-8849698ade09"
   },
   "outputs": [
    {
     "name": "stdout",
     "output_type": "stream",
     "text": [
      "112/112 [==============================] - 3s 15ms/step - loss: 0.0089 - accuracy: 0.6305\n"
     ]
    },
    {
     "data": {
      "text/plain": [
       "<tensorflow.python.keras.callbacks.History at 0x7f05b5c2a690>"
      ]
     },
     "execution_count": 51,
     "metadata": {
      "tags": []
     },
     "output_type": "execute_result"
    }
   ],
   "source": [
    "model_V = model()\n",
    "model_V.fit(X_train_V[:nb_categ[categories.index(\"V##\")]], y_train_V[:nb_categ[categories.index(\"V##\")]])"
   ]
  },
  {
   "cell_type": "code",
   "execution_count": 52,
   "metadata": {
    "colab": {
     "base_uri": "https://localhost:8080/"
    },
    "id": "8Ts5yl_SD5le",
    "outputId": "d92f3a03-76e6-4cd8-e244-d4c64d38ddb7"
   },
   "outputs": [
    {
     "name": "stdout",
     "output_type": "stream",
     "text": [
      "244/244 [==============================] - 5s 16ms/step - loss: 0.0063 - accuracy: 0.7479\n"
     ]
    },
    {
     "data": {
      "text/plain": [
       "<tensorflow.python.keras.callbacks.History at 0x7f05b2e61e90>"
      ]
     },
     "execution_count": 52,
     "metadata": {
      "tags": []
     },
     "output_type": "execute_result"
    }
   ],
   "source": [
    "model_N = model()\n",
    "model_N.fit(X_train_N[:nb_categ[categories.index(\"N##\")]], y_train_N[:nb_categ[categories.index(\"N##\")]])"
   ]
  },
  {
   "cell_type": "markdown",
   "metadata": {
    "id": "bj9syq1BEPLC"
   },
   "source": [
    "**Evaluation des différents modèles**"
   ]
  },
  {
   "cell_type": "code",
   "execution_count": 53,
   "metadata": {
    "colab": {
     "base_uri": "https://localhost:8080/"
    },
    "id": "bFfAWWLYETz4",
    "outputId": "0d945ac0-312d-49ee-e610-fd957a838199"
   },
   "outputs": [
    {
     "name": "stdout",
     "output_type": "stream",
     "text": [
      "32/32 [==============================] - 1s 5ms/step - loss: 0.0037 - accuracy: 0.9192\n",
      "32/32 [==============================] - 1s 6ms/step - loss: 0.0033 - accuracy: 0.9003\n",
      "32/32 [==============================] - 1s 5ms/step - loss: 8.9230e-04 - accuracy: 0.9859\n",
      "94/94 [==============================] - 1s 6ms/step - loss: 0.0012 - accuracy: 0.9574\n"
     ]
    }
   ],
   "source": [
    "ev_A = model_A.evaluate(X_test_A[:1000],y_test_A[:1000])\n",
    "ev_V = model_V.evaluate(X_test_V[:1000],y_test_V[:1000])\n",
    "ev_N = model_N.evaluate(X_test_N[:1000],y_test_N[:1000])\n",
    "ev_gene = model_gene.evaluate(X_test_conf,y_test_conf)"
   ]
  },
  {
   "cell_type": "code",
   "execution_count": 54,
   "metadata": {
    "id": "f8y4KN9MTS42"
   },
   "outputs": [],
   "source": [
    "nb_erreur_categ, total_categ = err_categ(y_test_conf, model_gene.predict(X_test_conf),X_test_conf,categories)"
   ]
  },
  {
   "cell_type": "code",
   "execution_count": 55,
   "metadata": {
    "id": "_YKe796llPAl"
   },
   "outputs": [],
   "source": [
    "def err(y_t, y_p) :\n",
    "  \"\"\"Renvoie le nombre d'erreur pour une catégorie\"\"\"\n",
    "  erreur = 0 \n",
    "  nb = 0\n",
    "  for t, p in zip(y_t, y_p) : \n",
    "    nb += 1 \n",
    "    if decode(t) != decode(p) : \n",
    "      erreur += 1 \n",
    "  return erreur,nb\n",
    "      "
   ]
  },
  {
   "cell_type": "code",
   "execution_count": 56,
   "metadata": {
    "id": "8iTojnFVlw_1"
   },
   "outputs": [],
   "source": [
    "nb_err_modA, nb_totA = err(y_test_A[:1000], model_A.predict(X_test_A[:1000]))\n",
    "nb_err_modV, nb_totV = err(y_test_V[:1000], model_V.predict(X_test_V[:1000]))\n",
    "nb_err_modN, nb_totN = err(y_test_N[:1000], model_N.predict(X_test_N[:1000]))"
   ]
  },
  {
   "cell_type": "code",
   "execution_count": 57,
   "metadata": {
    "id": "h2HpHkqhmmbC"
   },
   "outputs": [],
   "source": [
    "liste_erreur_categ = [nb_err_modA, nb_err_modV, nb_err_modN]\n",
    "liste_erreur_general = [nb_erreur_categ[categories.index(\"A##\")],nb_erreur_categ[categories.index(\"V##\")], nb_erreur_categ[categories.index(\"N##\")] ]"
   ]
  },
  {
   "cell_type": "code",
   "execution_count": 58,
   "metadata": {
    "colab": {
     "base_uri": "https://localhost:8080/",
     "height": 281
    },
    "id": "wmIzse_-Hgiv",
    "outputId": "52bd4554-7503-4472-b7e7-58a98ad8585e"
   },
   "outputs": [
    {
     "data": {
      "image/png": "[encoded data removed]",
      "text/plain": [
       "<Figure size 432x288 with 1 Axes>"
      ]
     },
     "metadata": {
      "needs_background": "light",
      "tags": []
     },
     "output_type": "display_data"
    }
   ],
   "source": [
    "largeur_barre = 0.3 \n",
    "y1 = liste_erreur_categ\n",
    "y2 = liste_erreur_general\n",
    "x1 = range(len(y1)) # Position des barres de la catégorie 1\n",
    "x2 = [i + largeur_barre for i in x1] # Position des barres de la cat 2\n",
    "\n",
    "b1 = plt.bar(x1, y1, width = largeur_barre, color = 'orange', # Barres cat 1\n",
    "           edgecolor = 'black', linewidth = 2)\n",
    "b2 = plt.bar(x2, y2, width = largeur_barre, color = 'yellow', # Barres cat 2\n",
    "           edgecolor = ['black' for i in y1], linewidth = 2)\n",
    "plt.xticks([r + largeur_barre / 2 for r in range(len(y1))], # Etiquettes\n",
    "              ['##A', '##V', '##N'])\n",
    "plt.legend([b1,b2], ['Catégoriel', 'Général'])\n",
    "plt.title(\"Nombre d'erreurs en fonction de la catégorie et du modèle\")\n",
    "plt.show()"
   ]
  },
  {
   "cell_type": "markdown",
   "metadata": {
    "id": "QqhDS62BWlxJ"
   },
   "source": [
    "On peut observer sur la figure ci-dessus que le modèle du lemmatiseur catégoriel commet majoritairement un plus grand nombre d'erreurs que le lemmatiseur général. En effet, on voit que pour les adjectifs le modèle catégoriel a pratiquement le double d'erreurs que le modèle général. Sur la catégorie des verbes, cette différence tend à diminuer avec une augmentation du nombre d'erreurs du modèle général. Aussi, pour la catégorie des noms, on remarque que le modèle catégoriel est ici plus performant.  \n",
    "Ces différences entre les deux modèles peuvent s'expliquer par le nombre d'exemples utilisés. Effectivement, le modèle catégoriel semble avoir besoin d'un plus grand nombre d'exemples que le modèle général pour être précis de manière générale. On voit tout de même que pour les noms le modèle général reste en-dessous des performances du modèle catégoriel."
   ]
  }
 ],
 "metadata": {
  "colab": {
   "collapsed_sections": [],
   "name": "TP3-AA.ipynb",
   "provenance": [],
   "toc_visible": true
  },
  "kernelspec": {
   "display_name": "Python 3",
   "language": "python",
   "name": "python3"
  },
  "language_info": {
   "codemirror_mode": {
    "name": "ipython",
    "version": 3
   },
   "file_extension": ".py",
   "mimetype": "text/x-python",
   "name": "python",
   "nbconvert_exporter": "python",
   "pygments_lexer": "ipython3",
   "version": "3.8.3"
  }
 },
 "nbformat": 4,
 "nbformat_minor": 1
}
